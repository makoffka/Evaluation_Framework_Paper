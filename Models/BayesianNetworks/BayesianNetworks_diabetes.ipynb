{
 "cells": [
  {
   "cell_type": "code",
   "execution_count": 16,
   "metadata": {},
   "outputs": [
    {
     "name": "stdout",
     "output_type": "stream",
     "text": [
      "Requirement already satisfied: pgmpy in /Users/arshiailaty/anaconda3/lib/python3.11/site-packages (0.1.26)\n",
      "Requirement already satisfied: pandas in /Users/arshiailaty/anaconda3/lib/python3.11/site-packages (2.0.3)\n",
      "Requirement already satisfied: scikit-learn in /Users/arshiailaty/anaconda3/lib/python3.11/site-packages (1.3.0)\n",
      "Requirement already satisfied: networkx in /Users/arshiailaty/anaconda3/lib/python3.11/site-packages (from pgmpy) (3.1)\n",
      "Requirement already satisfied: numpy in /Users/arshiailaty/anaconda3/lib/python3.11/site-packages (from pgmpy) (1.24.3)\n",
      "Requirement already satisfied: scipy in /Users/arshiailaty/anaconda3/lib/python3.11/site-packages (from pgmpy) (1.11.1)\n",
      "Requirement already satisfied: pyparsing in /Users/arshiailaty/anaconda3/lib/python3.11/site-packages (from pgmpy) (3.0.9)\n",
      "Requirement already satisfied: torch in /Users/arshiailaty/anaconda3/lib/python3.11/site-packages (from pgmpy) (2.4.1)\n",
      "Requirement already satisfied: statsmodels in /Users/arshiailaty/anaconda3/lib/python3.11/site-packages (from pgmpy) (0.14.0)\n",
      "Requirement already satisfied: tqdm in /Users/arshiailaty/anaconda3/lib/python3.11/site-packages (from pgmpy) (4.66.4)\n",
      "Requirement already satisfied: joblib in /Users/arshiailaty/anaconda3/lib/python3.11/site-packages (from pgmpy) (1.2.0)\n",
      "Requirement already satisfied: opt-einsum in /Users/arshiailaty/anaconda3/lib/python3.11/site-packages (from pgmpy) (3.3.0)\n",
      "Requirement already satisfied: xgboost in /Users/arshiailaty/anaconda3/lib/python3.11/site-packages (from pgmpy) (2.1.1)\n",
      "Requirement already satisfied: google-generativeai in /Users/arshiailaty/anaconda3/lib/python3.11/site-packages (from pgmpy) (0.8.0)\n",
      "Requirement already satisfied: python-dateutil>=2.8.2 in /Users/arshiailaty/anaconda3/lib/python3.11/site-packages (from pandas) (2.8.2)\n",
      "Requirement already satisfied: pytz>=2020.1 in /Users/arshiailaty/anaconda3/lib/python3.11/site-packages (from pandas) (2023.3.post1)\n",
      "Requirement already satisfied: tzdata>=2022.1 in /Users/arshiailaty/anaconda3/lib/python3.11/site-packages (from pandas) (2023.3)\n",
      "Requirement already satisfied: threadpoolctl>=2.0.0 in /Users/arshiailaty/anaconda3/lib/python3.11/site-packages (from scikit-learn) (2.2.0)\n",
      "Requirement already satisfied: six>=1.5 in /Users/arshiailaty/anaconda3/lib/python3.11/site-packages (from python-dateutil>=2.8.2->pandas) (1.16.0)\n",
      "Requirement already satisfied: google-ai-generativelanguage==0.6.9 in /Users/arshiailaty/anaconda3/lib/python3.11/site-packages (from google-generativeai->pgmpy) (0.6.9)\n",
      "Requirement already satisfied: google-api-core in /Users/arshiailaty/anaconda3/lib/python3.11/site-packages (from google-generativeai->pgmpy) (2.19.1)\n",
      "Requirement already satisfied: google-api-python-client in /Users/arshiailaty/anaconda3/lib/python3.11/site-packages (from google-generativeai->pgmpy) (2.145.0)\n",
      "Requirement already satisfied: google-auth>=2.15.0 in /Users/arshiailaty/anaconda3/lib/python3.11/site-packages (from google-generativeai->pgmpy) (2.32.0)\n",
      "Requirement already satisfied: protobuf in /Users/arshiailaty/anaconda3/lib/python3.11/site-packages (from google-generativeai->pgmpy) (4.25.3)\n",
      "Requirement already satisfied: pydantic in /Users/arshiailaty/anaconda3/lib/python3.11/site-packages (from google-generativeai->pgmpy) (2.8.2)\n",
      "Requirement already satisfied: typing-extensions in /Users/arshiailaty/anaconda3/lib/python3.11/site-packages (from google-generativeai->pgmpy) (4.9.0)\n",
      "Requirement already satisfied: proto-plus<2.0.0dev,>=1.22.3 in /Users/arshiailaty/anaconda3/lib/python3.11/site-packages (from google-ai-generativelanguage==0.6.9->google-generativeai->pgmpy) (1.24.0)\n",
      "Requirement already satisfied: patsy>=0.5.2 in /Users/arshiailaty/anaconda3/lib/python3.11/site-packages (from statsmodels->pgmpy) (0.5.3)\n",
      "Requirement already satisfied: packaging>=21.3 in /Users/arshiailaty/anaconda3/lib/python3.11/site-packages (from statsmodels->pgmpy) (24.1)\n",
      "Requirement already satisfied: filelock in /Users/arshiailaty/.local/lib/python3.11/site-packages (from torch->pgmpy) (3.13.1)\n",
      "Requirement already satisfied: sympy in /Users/arshiailaty/anaconda3/lib/python3.11/site-packages (from torch->pgmpy) (1.11.1)\n",
      "Requirement already satisfied: jinja2 in /Users/arshiailaty/anaconda3/lib/python3.11/site-packages (from torch->pgmpy) (3.1.2)\n",
      "Requirement already satisfied: fsspec in /Users/arshiailaty/anaconda3/lib/python3.11/site-packages (from torch->pgmpy) (2024.6.1)\n",
      "Requirement already satisfied: cachetools<6.0,>=2.0.0 in /Users/arshiailaty/anaconda3/lib/python3.11/site-packages (from google-auth>=2.15.0->google-generativeai->pgmpy) (5.4.0)\n",
      "Requirement already satisfied: pyasn1-modules>=0.2.1 in /Users/arshiailaty/anaconda3/lib/python3.11/site-packages (from google-auth>=2.15.0->google-generativeai->pgmpy) (0.2.8)\n",
      "Requirement already satisfied: rsa<5,>=3.1.4 in /Users/arshiailaty/anaconda3/lib/python3.11/site-packages (from google-auth>=2.15.0->google-generativeai->pgmpy) (4.9)\n",
      "Requirement already satisfied: googleapis-common-protos<2.0.dev0,>=1.56.2 in /Users/arshiailaty/anaconda3/lib/python3.11/site-packages (from google-api-core->google-generativeai->pgmpy) (1.63.2)\n",
      "Requirement already satisfied: requests<3.0.0.dev0,>=2.18.0 in /Users/arshiailaty/anaconda3/lib/python3.11/site-packages (from google-api-core->google-generativeai->pgmpy) (2.31.0)\n",
      "Requirement already satisfied: httplib2<1.dev0,>=0.19.0 in /Users/arshiailaty/anaconda3/lib/python3.11/site-packages (from google-api-python-client->google-generativeai->pgmpy) (0.22.0)\n",
      "Requirement already satisfied: google-auth-httplib2<1.0.0,>=0.2.0 in /Users/arshiailaty/anaconda3/lib/python3.11/site-packages (from google-api-python-client->google-generativeai->pgmpy) (0.2.0)\n",
      "Requirement already satisfied: uritemplate<5,>=3.0.1 in /Users/arshiailaty/anaconda3/lib/python3.11/site-packages (from google-api-python-client->google-generativeai->pgmpy) (4.1.1)\n",
      "Requirement already satisfied: MarkupSafe>=2.0 in /Users/arshiailaty/anaconda3/lib/python3.11/site-packages (from jinja2->torch->pgmpy) (2.1.1)\n",
      "Requirement already satisfied: annotated-types>=0.4.0 in /Users/arshiailaty/anaconda3/lib/python3.11/site-packages (from pydantic->google-generativeai->pgmpy) (0.7.0)\n",
      "Requirement already satisfied: pydantic-core==2.20.1 in /Users/arshiailaty/anaconda3/lib/python3.11/site-packages (from pydantic->google-generativeai->pgmpy) (2.20.1)\n",
      "Requirement already satisfied: mpmath>=0.19 in /Users/arshiailaty/anaconda3/lib/python3.11/site-packages (from sympy->torch->pgmpy) (1.3.0)\n",
      "Requirement already satisfied: grpcio<2.0dev,>=1.33.2 in /Users/arshiailaty/anaconda3/lib/python3.11/site-packages (from google-api-core->google-generativeai->pgmpy) (1.65.1)\n",
      "Requirement already satisfied: grpcio-status<2.0.dev0,>=1.33.2 in /Users/arshiailaty/anaconda3/lib/python3.11/site-packages (from google-api-core->google-generativeai->pgmpy) (1.62.2)\n",
      "Requirement already satisfied: pyasn1<0.5.0,>=0.4.6 in /Users/arshiailaty/anaconda3/lib/python3.11/site-packages (from pyasn1-modules>=0.2.1->google-auth>=2.15.0->google-generativeai->pgmpy) (0.4.8)\n",
      "Requirement already satisfied: charset-normalizer<4,>=2 in /Users/arshiailaty/anaconda3/lib/python3.11/site-packages (from requests<3.0.0.dev0,>=2.18.0->google-api-core->google-generativeai->pgmpy) (2.0.4)\n",
      "Requirement already satisfied: idna<4,>=2.5 in /Users/arshiailaty/anaconda3/lib/python3.11/site-packages (from requests<3.0.0.dev0,>=2.18.0->google-api-core->google-generativeai->pgmpy) (3.4)\n",
      "Requirement already satisfied: urllib3<3,>=1.21.1 in /Users/arshiailaty/anaconda3/lib/python3.11/site-packages (from requests<3.0.0.dev0,>=2.18.0->google-api-core->google-generativeai->pgmpy) (1.26.16)\n",
      "Requirement already satisfied: certifi>=2017.4.17 in /Users/arshiailaty/anaconda3/lib/python3.11/site-packages (from requests<3.0.0.dev0,>=2.18.0->google-api-core->google-generativeai->pgmpy) (2023.11.17)\n",
      "Note: you may need to restart the kernel to use updated packages.\n"
     ]
    }
   ],
   "source": [
    "pip install pgmpy pandas scikit-learn"
   ]
  },
  {
   "cell_type": "markdown",
   "metadata": {},
   "source": [
    "## Discretizing"
   ]
  },
  {
   "cell_type": "code",
   "execution_count": 17,
   "metadata": {},
   "outputs": [
    {
     "name": "stdout",
     "output_type": "stream",
     "text": [
      "   gender  age  hypertension  heart_disease smoking_history  bmi  HbA1c_level  \\\n",
      "0    Male  4.0             0              0          former  0.0          0.0   \n",
      "1    Male  4.0             0              0           never  0.0          2.0   \n",
      "2  Female  2.0             0              0            ever  0.0          0.0   \n",
      "3  Female  1.0             0              0     not current  0.0          1.0   \n",
      "4  Female  3.0             1              0         current  0.0          0.0   \n",
      "\n",
      "   blood_glucose_level  diabetes  \n",
      "0                  0.0         0  \n",
      "1                  1.0         1  \n",
      "2                  1.0         0  \n",
      "3                  0.0         0  \n",
      "4                  0.0         0  \n"
     ]
    },
    {
     "name": "stderr",
     "output_type": "stream",
     "text": [
      "/Users/arshiailaty/anaconda3/lib/python3.11/site-packages/sklearn/preprocessing/_discretization.py:239: FutureWarning: In version 1.5 onwards, subsample=200_000 will be used by default. Set subsample explicitly to silence this warning in the mean time. Set subsample=None to disable subsampling explicitly.\n",
      "  warnings.warn(\n"
     ]
    }
   ],
   "source": [
    "import pandas as pd\n",
    "from sklearn.preprocessing import KBinsDiscretizer\n",
    "import time\n",
    "\n",
    "generate_start_time = time.time()\n",
    "\n",
    "# Load the dataset\n",
    "df = pd.read_csv(\"/Users/arshiailaty/Documents/SDSU/Research Paper/Evaluation_Framework_Paper/Data/diabetes/diabetes_train.csv\")\n",
    "\n",
    "# Drop missing values (optional)\n",
    "#df.dropna(inplace=True)\n",
    "\n",
    "# Optionally discretize continuous variables if needed\n",
    "# For example, we can discretize age, BMI, HbA1c_level, and blood_glucose_level into 5 bins\n",
    "# Use KBinsDiscretizer to convert continuous data into bins (e.g., 5 bins)\n",
    "# Columns to discretize\n",
    "columns_to_discretize = ['age', 'bmi', 'HbA1c_level', 'blood_glucose_level']\n",
    "\n",
    "# Initialize the KBinsDiscretizer (we'll use 5 bins, you can adjust if needed)\n",
    "discretizer = KBinsDiscretizer(n_bins=5, encode='ordinal', strategy='uniform')\n",
    "\n",
    "# Fit and transform the continuous columns\n",
    "df[columns_to_discretize] = discretizer.fit_transform(df[columns_to_discretize])\n",
    "\n",
    "# Display the processed dataset\n",
    "print(df.head())\n"
   ]
  },
  {
   "cell_type": "markdown",
   "metadata": {},
   "source": [
    "# Structure learning: discover the relationships among variables"
   ]
  },
  {
   "cell_type": "markdown",
   "metadata": {},
   "source": [
    "## Score-based methods: BIC"
   ]
  },
  {
   "cell_type": "code",
   "execution_count": 18,
   "metadata": {},
   "outputs": [
    {
     "data": {
      "application/vnd.jupyter.widget-view+json": {
       "model_id": "b8d931735c4c4c1b93870445a3c3439b",
       "version_major": 2,
       "version_minor": 0
      },
      "text/plain": [
       "  0%|          | 0/1000000 [00:00<?, ?it/s]"
      ]
     },
     "metadata": {},
     "output_type": "display_data"
    },
    {
     "name": "stdout",
     "output_type": "stream",
     "text": [
      "[('gender', 'bmi'), ('age', 'bmi'), ('age', 'hypertension'), ('age', 'heart_disease'), ('heart_disease', 'gender'), ('heart_disease', 'hypertension'), ('smoking_history', 'age'), ('smoking_history', 'gender'), ('HbA1c_level', 'diabetes'), ('diabetes', 'blood_glucose_level'), ('diabetes', 'age'), ('diabetes', 'smoking_history'), ('diabetes', 'bmi'), ('diabetes', 'hypertension'), ('diabetes', 'heart_disease')]\n"
     ]
    }
   ],
   "source": [
    "from pgmpy.models import BayesianNetwork\n",
    "from pgmpy.estimators import HillClimbSearch, BicScore\n",
    "\n",
    "# Define the structure using a Hill-Climbing algorithm with BIC scoring\n",
    "hc = HillClimbSearch(df)\n",
    "best_model = hc.estimate(scoring_method=BicScore(df))\n",
    "\n",
    "# Print the learned structure (edges)\n",
    "print(best_model.edges())"
   ]
  },
  {
   "cell_type": "markdown",
   "metadata": {},
   "source": [
    "### After learning the structure, estimate the conditional probability distributions (CPDs) for each node in the network."
   ]
  },
  {
   "cell_type": "code",
   "execution_count": 19,
   "metadata": {},
   "outputs": [
    {
     "name": "stdout",
     "output_type": "stream",
     "text": [
      "+-----------------+-----+------------------------------+\n",
      "| heart_disease   | ... | heart_disease(1)             |\n",
      "+-----------------+-----+------------------------------+\n",
      "| smoking_history | ... | smoking_history(not current) |\n",
      "+-----------------+-----+------------------------------+\n",
      "| gender(Female)  | ... | 0.3536747790289381           |\n",
      "+-----------------+-----+------------------------------+\n",
      "| gender(Male)    | ... | 0.6457198208015499           |\n",
      "+-----------------+-----+------------------------------+\n",
      "| gender(Other)   | ... | 0.0006054001695120475        |\n",
      "+-----------------+-----+------------------------------+\n",
      "+----------+-----------------------+-----+---------------+\n",
      "| age      | age(0.0)              | ... | age(4.0)      |\n",
      "+----------+-----------------------+-----+---------------+\n",
      "| diabetes | diabetes(0)           | ... | diabetes(1)   |\n",
      "+----------+-----------------------+-----+---------------+\n",
      "| gender   | gender(Female)        | ... | gender(Other) |\n",
      "+----------+-----------------------+-----+---------------+\n",
      "| bmi(0.0) | 0.7461725752508359    | ... | 0.2           |\n",
      "+----------+-----------------------+-----+---------------+\n",
      "| bmi(1.0) | 0.2509217391304347    | ... | 0.2           |\n",
      "+----------+-----------------------+-----+---------------+\n",
      "| bmi(2.0) | 0.00257391304347826   | ... | 0.2           |\n",
      "+----------+-----------------------+-----+---------------+\n",
      "| bmi(3.0) | 0.0003264214046822741 | ... | 0.2           |\n",
      "+----------+-----------------------+-----+---------------+\n",
      "| bmi(4.0) | 5.351170568561871e-06 | ... | 0.2           |\n",
      "+----------+-----------------------+-----+---------------+\n",
      "+-----------------+-----+------------------------------+\n",
      "| diabetes        | ... | diabetes(1)                  |\n",
      "+-----------------+-----+------------------------------+\n",
      "| smoking_history | ... | smoking_history(not current) |\n",
      "+-----------------+-----+------------------------------+\n",
      "| age(0.0)        | ... | 0.006999000142836736         |\n",
      "+-----------------+-----+------------------------------+\n",
      "| age(1.0)        | ... | 0.04813598057420368          |\n",
      "+-----------------+-----+------------------------------+\n",
      "| age(2.0)        | ... | 0.13040994143693754          |\n",
      "+-----------------+-----+------------------------------+\n",
      "| age(3.0)        | ... | 0.3549492929581488           |\n",
      "+-----------------+-----+------------------------------+\n",
      "| age(4.0)        | ... | 0.4595057848878731           |\n",
      "+-----------------+-----+------------------------------+\n",
      "+-----------------+-----+--------------------+\n",
      "| age             | ... | age(4.0)           |\n",
      "+-----------------+-----+--------------------+\n",
      "| diabetes        | ... | diabetes(1)        |\n",
      "+-----------------+-----+--------------------+\n",
      "| heart_disease   | ... | heart_disease(1)   |\n",
      "+-----------------+-----+--------------------+\n",
      "| hypertension(0) | ... | 0.7169024301777294 |\n",
      "+-----------------+-----+--------------------+\n",
      "| hypertension(1) | ... | 0.2830975698222706 |\n",
      "+-----------------+-----+--------------------+\n",
      "+------------------+-----+---------------------+\n",
      "| age              | ... | age(4.0)            |\n",
      "+------------------+-----+---------------------+\n",
      "| diabetes         | ... | diabetes(1)         |\n",
      "+------------------+-----+---------------------+\n",
      "| heart_disease(0) | ... | 0.7747180911913711  |\n",
      "+------------------+-----+---------------------+\n",
      "| heart_disease(1) | ... | 0.22528190880862886 |\n",
      "+------------------+-----+---------------------+\n",
      "+------------------------------+----------------------+----------------------+\n",
      "| diabetes                     | diabetes(0)          | diabetes(1)          |\n",
      "+------------------------------+----------------------+----------------------+\n",
      "| smoking_history(No Info)     | 0.37558023325433737  | 0.17240660338018493  |\n",
      "+------------------------------+----------------------+----------------------+\n",
      "| smoking_history(current)     | 0.09058013081001587  | 0.11073907817597564  |\n",
      "+------------------------------+----------------------+----------------------+\n",
      "| smoking_history(ever)        | 0.038770622611055336 | 0.053634066769691166 |\n",
      "+------------------------------+----------------------+----------------------+\n",
      "| smoking_history(former)      | 0.08515741139135324  | 0.18786027914734957  |\n",
      "+------------------------------+----------------------+----------------------+\n",
      "| smoking_history(never)       | 0.34720998581715284  | 0.38949395344273546  |\n",
      "+------------------------------+----------------------+----------------------+\n",
      "| smoking_history(not current) | 0.06270161611608535  | 0.08586601908406308  |\n",
      "+------------------------------+----------------------+----------------------+\n",
      "+------------------+-----------+\n",
      "| HbA1c_level(0.0) | 0.227886  |\n",
      "+------------------+-----------+\n",
      "| HbA1c_level(1.0) | 0.151778  |\n",
      "+------------------+-----------+\n",
      "| HbA1c_level(2.0) | 0.587601  |\n",
      "+------------------+-----------+\n",
      "| HbA1c_level(3.0) | 0.0126867 |\n",
      "+------------------+-----------+\n",
      "| HbA1c_level(4.0) | 0.0200487 |\n",
      "+------------------+-----------+\n",
      "+-------------+-----+-----------------------+\n",
      "| HbA1c_level | ... | HbA1c_level(4.0)      |\n",
      "+-------------+-----+-----------------------+\n",
      "| diabetes(0) | ... | 0.0003117206982543641 |\n",
      "+-------------+-----+-----------------------+\n",
      "| diabetes(1) | ... | 0.9996882793017456    |\n",
      "+-------------+-----+-----------------------+\n",
      "+--------------------------+-----------------------+-----------------------+\n",
      "| diabetes                 | diabetes(0)           | diabetes(1)           |\n",
      "+--------------------------+-----------------------+-----------------------+\n",
      "| blood_glucose_level(0.0) | 0.3079681193271457    | 7.358893222459342e-05 |\n",
      "+--------------------------+-----------------------+-----------------------+\n",
      "| blood_glucose_level(1.0) | 0.6156015872040212    | 0.5387445728162484    |\n",
      "+--------------------------+-----------------------+-----------------------+\n",
      "| blood_glucose_level(2.0) | 0.07641663422596486   | 0.07483994407241151   |\n",
      "+--------------------------+-----------------------+-----------------------+\n",
      "| blood_glucose_level(3.0) | 6.829621434083909e-06 | 0.14725145338141143   |\n",
      "+--------------------------+-----------------------+-----------------------+\n",
      "| blood_glucose_level(4.0) | 6.829621434083909e-06 | 0.23909044079770403   |\n",
      "+--------------------------+-----------------------+-----------------------+\n"
     ]
    }
   ],
   "source": [
    "from pgmpy.estimators import BayesianEstimator\n",
    "\n",
    "# Create a Bayesian Network model based on the learned structure\n",
    "model = BayesianNetwork(best_model.edges())\n",
    "\n",
    "# Start timing for the entire process\n",
    "start_time = time.time()\n",
    "\n",
    "# Fit the CPDs (Conditional Probability Distributions) using the data\n",
    "model.fit(df, estimator=BayesianEstimator, prior_type='BDeu')  # BDeu prior to avoid overfitting\n",
    "\n",
    "fit_end_time = time.time() \n",
    "\n",
    "# Check the CPDs for each node\n",
    "for cpd in model.get_cpds():\n",
    "    print(cpd)\n"
   ]
  },
  {
   "cell_type": "code",
   "execution_count": 20,
   "metadata": {},
   "outputs": [
    {
     "data": {
      "application/vnd.jupyter.widget-view+json": {
       "model_id": "bf2da1c8d79146399c11700417778625",
       "version_major": 2,
       "version_minor": 0
      },
      "text/plain": [
       "  0%|          | 0/9 [00:00<?, ?it/s]"
      ]
     },
     "metadata": {},
     "output_type": "display_data"
    },
    {
     "name": "stderr",
     "output_type": "stream",
     "text": [
      "WARNING:pgmpy:Probability values don't exactly sum to 1. Differ by: 1.1102230246251565e-16. Adjusting values.\n",
      "WARNING:pgmpy:Probability values don't exactly sum to 1. Differ by: -2.220446049250313e-16. Adjusting values.\n",
      "WARNING:pgmpy:Probability values don't exactly sum to 1. Differ by: 1.1102230246251565e-16. Adjusting values.\n",
      "WARNING:pgmpy:Probability values don't exactly sum to 1. Differ by: 4.440892098500626e-16. Adjusting values.\n",
      "WARNING:pgmpy:Probability values don't exactly sum to 1. Differ by: -2.220446049250313e-16. Adjusting values.\n",
      "WARNING:pgmpy:Probability values don't exactly sum to 1. Differ by: 1.1102230246251565e-16. Adjusting values.\n",
      "WARNING:pgmpy:Probability values don't exactly sum to 1. Differ by: 1.1102230246251565e-16. Adjusting values.\n",
      "WARNING:pgmpy:Probability values don't exactly sum to 1. Differ by: -2.220446049250313e-16. Adjusting values.\n",
      "WARNING:pgmpy:Probability values don't exactly sum to 1. Differ by: 1.1102230246251565e-16. Adjusting values.\n",
      "WARNING:pgmpy:Probability values don't exactly sum to 1. Differ by: 1.1102230246251565e-16. Adjusting values.\n",
      "WARNING:pgmpy:Probability values don't exactly sum to 1. Differ by: 1.1102230246251565e-16. Adjusting values.\n"
     ]
    },
    {
     "name": "stdout",
     "output_type": "stream",
     "text": [
      "   gender  bmi  age  hypertension  heart_disease smoking_history  HbA1c_level  \\\n",
      "0    Male  1.0  1.0             0              0         No Info          2.0   \n",
      "1  Female  1.0  1.0             0              0           never          2.0   \n",
      "2  Female  1.0  3.0             0              0           never          2.0   \n",
      "3    Male  0.0  4.0             1              0           never          2.0   \n",
      "4  Female  1.0  4.0             0              0         No Info          2.0   \n",
      "\n",
      "   diabetes  blood_glucose_level  \n",
      "0         0                  1.0  \n",
      "1         0                  1.0  \n",
      "2         0                  1.0  \n",
      "3         0                  0.0  \n",
      "4         0                  2.0  \n"
     ]
    }
   ],
   "source": [
    "from pgmpy.sampling import BayesianModelSampling\n",
    "\n",
    "fit_start_time = time.time() \n",
    "# Use the fitted model to generate synthetic data\n",
    "sampler = BayesianModelSampling(model)\n",
    "# synthetic_data = sampler.forward_sample\n",
    "synthetic_data = sampler.forward_sample(len(df))  # Generate synthetic data with the same number of records as the original data\n",
    "\n",
    "generate_end_time = time.time()  # End time for sampling\n",
    "\n",
    "# Display the synthetic data\n",
    "print(synthetic_data.head())\n"
   ]
  },
  {
   "cell_type": "code",
   "execution_count": 21,
   "metadata": {},
   "outputs": [],
   "source": [
    "synthetic_data.to_csv(\"diabetes_synthetic_BN_sep12.csv\", index=False)"
   ]
  },
  {
   "cell_type": "code",
   "execution_count": 22,
   "metadata": {},
   "outputs": [
    {
     "name": "stdout",
     "output_type": "stream",
     "text": [
      "Total running time: 0.54305100440979 seconds\n",
      "Fitting time: -0.013506174087524414 seconds\n",
      "Generation time: 1.1931531429290771 seconds\n"
     ]
    }
   ],
   "source": [
    "# Calculate the total running time\n",
    "end_time = time.time()\n",
    "total_time = end_time - start_time\n",
    "fit_time = fit_end_time - fit_start_time\n",
    "generation_time = generate_end_time - generate_start_time\n",
    "\n",
    "# Display timing results\n",
    "print(f\"Total running time: {total_time} seconds\")\n",
    "print(f\"Fitting time: {fit_time} seconds\")\n",
    "print(f\"Generation time: {generation_time} seconds\")"
   ]
  },
  {
   "cell_type": "markdown",
   "metadata": {},
   "source": [
    "## Evaluation of Synthetic Data"
   ]
  },
  {
   "cell_type": "code",
   "execution_count": 23,
   "metadata": {},
   "outputs": [
    {
     "name": "stdout",
     "output_type": "stream",
     "text": [
      "KS Statistic: 0.0018624999999999892, P-Value: 0.9990389339376528\n"
     ]
    }
   ],
   "source": [
    "from scipy.stats import ks_2samp\n",
    "\n",
    "# Evaluate continuous variables (e.g., age) using KS test\n",
    "ks_stat, p_value = ks_2samp(df['age'], synthetic_data['age'])\n",
    "print(f\"KS Statistic: {ks_stat}, P-Value: {p_value}\")\n",
    "\n",
    "# Optionally use Chi-square for categorical data\n"
   ]
  },
  {
   "cell_type": "code",
   "execution_count": 25,
   "metadata": {},
   "outputs": [],
   "source": [
    "X_test = pd.read_csv(\"/Users/arshiailaty/Documents/SDSU/Research Paper/Evaluation_Framework_Paper/Data/diabetes/diabetes_test.csv\")"
   ]
  },
  {
   "cell_type": "code",
   "execution_count": 27,
   "metadata": {},
   "outputs": [
    {
     "name": "stdout",
     "output_type": "stream",
     "text": [
      "(80000, 9) (80000, 9)\n"
     ]
    }
   ],
   "source": [
    "# Ensure the synthetic_data has the same length as X_test\n",
    "print(df.shape,synthetic_data.shape)"
   ]
  },
  {
   "cell_type": "code",
   "execution_count": 28,
   "metadata": {},
   "outputs": [],
   "source": [
    "synthetic_data_discretized = synthetic_data.copy()"
   ]
  },
  {
   "cell_type": "markdown",
   "metadata": {},
   "source": [
    "## Inverse_Discretize"
   ]
  },
  {
   "cell_type": "code",
   "execution_count": 29,
   "metadata": {},
   "outputs": [
    {
     "ename": "TypeError",
     "evalue": "object of type 'int' has no len()",
     "output_type": "error",
     "traceback": [
      "\u001b[0;31m---------------------------------------------------------------------------\u001b[0m",
      "\u001b[0;31mTypeError\u001b[0m                                 Traceback (most recent call last)",
      "Cell \u001b[0;32mIn[29], line 6\u001b[0m\n\u001b[1;32m      3\u001b[0m     \u001b[38;5;28;01mreturn\u001b[39;00m [bin_midpoints[\u001b[38;5;28mint\u001b[39m(val)] \u001b[38;5;28;01mif\u001b[39;00m \u001b[38;5;129;01mnot\u001b[39;00m np\u001b[38;5;241m.\u001b[39misnan(val) \u001b[38;5;28;01melse\u001b[39;00m val \u001b[38;5;28;01mfor\u001b[39;00m val \u001b[38;5;129;01min\u001b[39;00m data]\n\u001b[1;32m      5\u001b[0m \u001b[38;5;66;03m# Convert each column back to continuous form using the bin ranges\u001b[39;00m\n\u001b[0;32m----> 6\u001b[0m synthetic_data_discretized[\u001b[38;5;124m'\u001b[39m\u001b[38;5;124mage\u001b[39m\u001b[38;5;124m'\u001b[39m] \u001b[38;5;241m=\u001b[39m map_bin_to_value(synthetic_data_discretized[\u001b[38;5;124m'\u001b[39m\u001b[38;5;124mage\u001b[39m\u001b[38;5;124m'\u001b[39m], \u001b[38;5;241m5\u001b[39m)\n\u001b[1;32m      7\u001b[0m synthetic_data_discretized[\u001b[38;5;124m'\u001b[39m\u001b[38;5;124mbmi\u001b[39m\u001b[38;5;124m'\u001b[39m] \u001b[38;5;241m=\u001b[39m map_bin_to_value(synthetic_data_discretized[\u001b[38;5;124m'\u001b[39m\u001b[38;5;124mbmi\u001b[39m\u001b[38;5;124m'\u001b[39m], \u001b[38;5;241m5\u001b[39m)\n\u001b[1;32m      8\u001b[0m synthetic_data_discretized[\u001b[38;5;124m'\u001b[39m\u001b[38;5;124mHbA1c_level\u001b[39m\u001b[38;5;124m'\u001b[39m] \u001b[38;5;241m=\u001b[39m map_bin_to_value(synthetic_data_discretized[\u001b[38;5;124m'\u001b[39m\u001b[38;5;124mHbA1c_level\u001b[39m\u001b[38;5;124m'\u001b[39m], \u001b[38;5;241m5\u001b[39m)\n",
      "Cell \u001b[0;32mIn[29], line 2\u001b[0m, in \u001b[0;36mmap_bin_to_value\u001b[0;34m(data, bins)\u001b[0m\n\u001b[1;32m      1\u001b[0m \u001b[38;5;28;01mdef\u001b[39;00m \u001b[38;5;21mmap_bin_to_value\u001b[39m(data, bins):\n\u001b[0;32m----> 2\u001b[0m     bin_midpoints \u001b[38;5;241m=\u001b[39m [(bins[i] \u001b[38;5;241m+\u001b[39m bins[i\u001b[38;5;241m+\u001b[39m\u001b[38;5;241m1\u001b[39m]) \u001b[38;5;241m/\u001b[39m \u001b[38;5;241m2\u001b[39m \u001b[38;5;28;01mfor\u001b[39;00m i \u001b[38;5;129;01min\u001b[39;00m \u001b[38;5;28mrange\u001b[39m(\u001b[38;5;28mlen\u001b[39m(bins) \u001b[38;5;241m-\u001b[39m \u001b[38;5;241m1\u001b[39m)]\n\u001b[1;32m      3\u001b[0m     \u001b[38;5;28;01mreturn\u001b[39;00m [bin_midpoints[\u001b[38;5;28mint\u001b[39m(val)] \u001b[38;5;28;01mif\u001b[39;00m \u001b[38;5;129;01mnot\u001b[39;00m np\u001b[38;5;241m.\u001b[39misnan(val) \u001b[38;5;28;01melse\u001b[39;00m val \u001b[38;5;28;01mfor\u001b[39;00m val \u001b[38;5;129;01min\u001b[39;00m data]\n",
      "\u001b[0;31mTypeError\u001b[0m: object of type 'int' has no len()"
     ]
    }
   ],
   "source": [
    "def map_bin_to_value(data, bins):\n",
    "    bin_midpoints = [(bins[i] + bins[i+1]) / 2 for i in range(len(bins) - 1)]\n",
    "    return [bin_midpoints[int(val)] if not np.isnan(val) else val for val in data]\n",
    "\n",
    "# Convert each column back to continuous form using the bin ranges\n",
    "synthetic_data_discretized['age'] = map_bin_to_value(synthetic_data_discretized['age'], 5)\n",
    "synthetic_data_discretized['bmi'] = map_bin_to_value(synthetic_data_discretized['bmi'], 5)\n",
    "synthetic_data_discretized['HbA1c_level'] = map_bin_to_value(synthetic_data_discretized['HbA1c_level'], 5)\n",
    "synthetic_data_discretized['blood_glucose_level'] = map_bin_to_value(synthetic_data_discretized['blood_glucose_level'], 5)"
   ]
  },
  {
   "cell_type": "code",
   "execution_count": null,
   "metadata": {},
   "outputs": [],
   "source": [
    "from table_evaluator import TableEvaluator\n",
    "\n",
    "synthetic_data_discretized = synthetic_data_discretized[:len(X_test)]  # Adjust if needed\n",
    "\n",
    "# Initialize TableEvaluator for evaluation\n",
    "table_evaluator = TableEvaluator(X_test, synthetic_data_discretized)\n",
    "\n",
    "# Perform visual evaluation and other evaluations like quality, similarity, etc.\n",
    "table_evaluator.visual_evaluation()\n"
   ]
  },
  {
   "cell_type": "code",
   "execution_count": null,
   "metadata": {},
   "outputs": [
    {
     "ename": "KeyError",
     "evalue": "'rare_event_column'",
     "output_type": "error",
     "traceback": [
      "\u001b[0;31m---------------------------------------------------------------------------\u001b[0m",
      "\u001b[0;31mKeyError\u001b[0m                                  Traceback (most recent call last)",
      "File \u001b[0;32m~/anaconda3/lib/python3.11/site-packages/pandas/core/indexes/base.py:3653\u001b[0m, in \u001b[0;36mIndex.get_loc\u001b[0;34m(self, key)\u001b[0m\n\u001b[1;32m   3652\u001b[0m \u001b[38;5;28;01mtry\u001b[39;00m:\n\u001b[0;32m-> 3653\u001b[0m     \u001b[38;5;28;01mreturn\u001b[39;00m \u001b[38;5;28mself\u001b[39m\u001b[38;5;241m.\u001b[39m_engine\u001b[38;5;241m.\u001b[39mget_loc(casted_key)\n\u001b[1;32m   3654\u001b[0m \u001b[38;5;28;01mexcept\u001b[39;00m \u001b[38;5;167;01mKeyError\u001b[39;00m \u001b[38;5;28;01mas\u001b[39;00m err:\n",
      "File \u001b[0;32m~/anaconda3/lib/python3.11/site-packages/pandas/_libs/index.pyx:147\u001b[0m, in \u001b[0;36mpandas._libs.index.IndexEngine.get_loc\u001b[0;34m()\u001b[0m\n",
      "File \u001b[0;32m~/anaconda3/lib/python3.11/site-packages/pandas/_libs/index.pyx:176\u001b[0m, in \u001b[0;36mpandas._libs.index.IndexEngine.get_loc\u001b[0;34m()\u001b[0m\n",
      "File \u001b[0;32mpandas/_libs/hashtable_class_helper.pxi:7080\u001b[0m, in \u001b[0;36mpandas._libs.hashtable.PyObjectHashTable.get_item\u001b[0;34m()\u001b[0m\n",
      "File \u001b[0;32mpandas/_libs/hashtable_class_helper.pxi:7088\u001b[0m, in \u001b[0;36mpandas._libs.hashtable.PyObjectHashTable.get_item\u001b[0;34m()\u001b[0m\n",
      "\u001b[0;31mKeyError\u001b[0m: 'rare_event_column'",
      "\nThe above exception was the direct cause of the following exception:\n",
      "\u001b[0;31mKeyError\u001b[0m                                  Traceback (most recent call last)",
      "Cell \u001b[0;32mIn[15], line 2\u001b[0m\n\u001b[1;32m      1\u001b[0m \u001b[38;5;66;03m# Check for rare events (e.g., rare value counts)\u001b[39;00m\n\u001b[0;32m----> 2\u001b[0m rare_values_real \u001b[38;5;241m=\u001b[39m df[\u001b[38;5;124m'\u001b[39m\u001b[38;5;124mrare_event_column\u001b[39m\u001b[38;5;124m'\u001b[39m]\u001b[38;5;241m.\u001b[39mvalue_counts()\n\u001b[1;32m      3\u001b[0m rare_values_synthetic \u001b[38;5;241m=\u001b[39m synthetic_data[\u001b[38;5;124m'\u001b[39m\u001b[38;5;124mrare_event_column\u001b[39m\u001b[38;5;124m'\u001b[39m]\u001b[38;5;241m.\u001b[39mvalue_counts()\n\u001b[1;32m      5\u001b[0m \u001b[38;5;28mprint\u001b[39m(\u001b[38;5;124m\"\u001b[39m\u001b[38;5;124mReal Data Rare Events:\u001b[39m\u001b[38;5;130;01m\\n\u001b[39;00m\u001b[38;5;124m\"\u001b[39m, rare_values_real)\n",
      "File \u001b[0;32m~/anaconda3/lib/python3.11/site-packages/pandas/core/frame.py:3761\u001b[0m, in \u001b[0;36mDataFrame.__getitem__\u001b[0;34m(self, key)\u001b[0m\n\u001b[1;32m   3759\u001b[0m \u001b[38;5;28;01mif\u001b[39;00m \u001b[38;5;28mself\u001b[39m\u001b[38;5;241m.\u001b[39mcolumns\u001b[38;5;241m.\u001b[39mnlevels \u001b[38;5;241m>\u001b[39m \u001b[38;5;241m1\u001b[39m:\n\u001b[1;32m   3760\u001b[0m     \u001b[38;5;28;01mreturn\u001b[39;00m \u001b[38;5;28mself\u001b[39m\u001b[38;5;241m.\u001b[39m_getitem_multilevel(key)\n\u001b[0;32m-> 3761\u001b[0m indexer \u001b[38;5;241m=\u001b[39m \u001b[38;5;28mself\u001b[39m\u001b[38;5;241m.\u001b[39mcolumns\u001b[38;5;241m.\u001b[39mget_loc(key)\n\u001b[1;32m   3762\u001b[0m \u001b[38;5;28;01mif\u001b[39;00m is_integer(indexer):\n\u001b[1;32m   3763\u001b[0m     indexer \u001b[38;5;241m=\u001b[39m [indexer]\n",
      "File \u001b[0;32m~/anaconda3/lib/python3.11/site-packages/pandas/core/indexes/base.py:3655\u001b[0m, in \u001b[0;36mIndex.get_loc\u001b[0;34m(self, key)\u001b[0m\n\u001b[1;32m   3653\u001b[0m     \u001b[38;5;28;01mreturn\u001b[39;00m \u001b[38;5;28mself\u001b[39m\u001b[38;5;241m.\u001b[39m_engine\u001b[38;5;241m.\u001b[39mget_loc(casted_key)\n\u001b[1;32m   3654\u001b[0m \u001b[38;5;28;01mexcept\u001b[39;00m \u001b[38;5;167;01mKeyError\u001b[39;00m \u001b[38;5;28;01mas\u001b[39;00m err:\n\u001b[0;32m-> 3655\u001b[0m     \u001b[38;5;28;01mraise\u001b[39;00m \u001b[38;5;167;01mKeyError\u001b[39;00m(key) \u001b[38;5;28;01mfrom\u001b[39;00m \u001b[38;5;21;01merr\u001b[39;00m\n\u001b[1;32m   3656\u001b[0m \u001b[38;5;28;01mexcept\u001b[39;00m \u001b[38;5;167;01mTypeError\u001b[39;00m:\n\u001b[1;32m   3657\u001b[0m     \u001b[38;5;66;03m# If we have a listlike key, _check_indexing_error will raise\u001b[39;00m\n\u001b[1;32m   3658\u001b[0m     \u001b[38;5;66;03m#  InvalidIndexError. Otherwise we fall through and re-raise\u001b[39;00m\n\u001b[1;32m   3659\u001b[0m     \u001b[38;5;66;03m#  the TypeError.\u001b[39;00m\n\u001b[1;32m   3660\u001b[0m     \u001b[38;5;28mself\u001b[39m\u001b[38;5;241m.\u001b[39m_check_indexing_error(key)\n",
      "\u001b[0;31mKeyError\u001b[0m: 'rare_event_column'"
     ]
    }
   ],
   "source": [
    "# Check for rare events (e.g., rare value counts)\n",
    "rare_values_real = df['rare_event_column'].value_counts()\n",
    "rare_values_synthetic = synthetic_data['rare_event_column'].value_counts()\n",
    "\n",
    "print(\"Real Data Rare Events:\\n\", rare_values_real)\n",
    "print(\"Synthetic Data Rare Events:\\n\", rare_values_synthetic)\n"
   ]
  },
  {
   "cell_type": "code",
   "execution_count": null,
   "metadata": {},
   "outputs": [],
   "source": []
  }
 ],
 "metadata": {
  "kernelspec": {
   "display_name": "Python 3",
   "language": "python",
   "name": "python3"
  },
  "language_info": {
   "codemirror_mode": {
    "name": "ipython",
    "version": 3
   },
   "file_extension": ".py",
   "mimetype": "text/x-python",
   "name": "python",
   "nbconvert_exporter": "python",
   "pygments_lexer": "ipython3",
   "version": "3.11.5"
  }
 },
 "nbformat": 4,
 "nbformat_minor": 2
}
